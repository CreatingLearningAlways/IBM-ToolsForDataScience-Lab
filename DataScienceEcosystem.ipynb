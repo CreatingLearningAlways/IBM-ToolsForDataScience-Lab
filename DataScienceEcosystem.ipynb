{
 "cells": [
  {
   "cell_type": "markdown",
   "id": "2ef9a1ac-76e8-4978-85b8-a28eb706d629",
   "metadata": {},
   "source": [
    "# Data Science Tool and Ecosystem"
   ]
  },
  {
   "cell_type": "markdown",
   "id": "aa94abab-030e-4ef2-9833-7b18df2d7c9d",
   "metadata": {},
   "source": [
    "In this notebook, Data Science Tools and Ecosystem are summarized"
   ]
  },
  {
   "cell_type": "markdown",
   "id": "7fc8ebed-c551-4093-81a4-96e9eb731bf0",
   "metadata": {},
   "source": [
    "Some of the popular languages Data Scientists use are:\n",
    "1. Python\n",
    "2. SQL\n",
    "3. R"
   ]
  },
  {
   "cell_type": "markdown",
   "id": "20e67f4b-171d-4c62-a357-f848203a4066",
   "metadata": {},
   "source": [
    "Some of the commonly used libraries used by Data Scientists include:\n",
    "1. pandas\n",
    "2. matplotlib\n",
    "3. skikit-learn\n"
   ]
  },
  {
   "cell_type": "markdown",
   "id": "7d764548-b4bd-44bb-a265-21ae7d0889d1",
   "metadata": {},
   "source": [
    "| Data Science Tools  |\n",
    "|---------------------|\n",
    "| Jupyter Notebook |\n",
    "| RStudio |\n",
    "| Python |"
   ]
  },
  {
   "cell_type": "markdown",
   "id": "bacf620c-379f-42ea-bb84-331dd0454d0d",
   "metadata": {},
   "source": [
    "### Below are a few examples of evaluating arithmetic expressions in Python"
   ]
  },
  {
   "cell_type": "code",
   "execution_count": 8,
   "id": "78daa2e9-a79c-42fe-a6cc-96d7bf5cbdb6",
   "metadata": {},
   "outputs": [
    {
     "data": {
      "text/plain": [
       "17"
      ]
     },
     "execution_count": 8,
     "metadata": {},
     "output_type": "execute_result"
    }
   ],
   "source": [
    "(3*4)+5\n",
    "# This a simple arithmetic expression to mutiply then add integers"
   ]
  },
  {
   "cell_type": "code",
   "execution_count": 9,
   "id": "4b91a33e-6b80-484e-9ed0-042f752af2c0",
   "metadata": {},
   "outputs": [
    {
     "data": {
      "text/plain": [
       "3.3333333333333335"
      ]
     },
     "execution_count": 9,
     "metadata": {},
     "output_type": "execute_result"
    }
   ],
   "source": [
    "200/60\n",
    "# This will convert 200 minutes to hours by diving by 60"
   ]
  },
  {
   "cell_type": "markdown",
   "id": "642a2590-954b-4303-b35d-42d03c5c9fdd",
   "metadata": {},
   "source": [
    "<b> Objectives: </b> \n",
    "* List popular data science languages\n",
    "* List different data science tools\n",
    "* Understand arithmetics expressions"
   ]
  },
  {
   "cell_type": "markdown",
   "id": "4c6f7e94-c336-453a-a94a-ad03126f79f2",
   "metadata": {},
   "source": [
    "## Author\n",
    "Mohammed Adil"
   ]
  },
  {
   "cell_type": "code",
   "execution_count": null,
   "id": "b44f7f79-e871-4a3b-b323-59e38bebdaee",
   "metadata": {},
   "outputs": [],
   "source": []
  },
  {
   "cell_type": "code",
   "execution_count": null,
   "id": "3cc2742e-6fee-4825-88c4-cd49aa39d993",
   "metadata": {},
   "outputs": [],
   "source": []
  }
 ],
 "metadata": {
  "kernelspec": {
   "display_name": "Python 3 (ipykernel)",
   "language": "python",
   "name": "python3"
  },
  "language_info": {
   "codemirror_mode": {
    "name": "ipython",
    "version": 3
   },
   "file_extension": ".py",
   "mimetype": "text/x-python",
   "name": "python",
   "nbconvert_exporter": "python",
   "pygments_lexer": "ipython3",
   "version": "3.12.8"
  }
 },
 "nbformat": 4,
 "nbformat_minor": 5
}
